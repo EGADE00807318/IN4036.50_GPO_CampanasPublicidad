{
 "cells": [
  {
   "cell_type": "markdown",
   "id": "45b5b6fa-3037-418b-a5c7-069e16f47242",
   "metadata": {},
   "source": [
    "# Actividad 2 Comparación de grupos: Campañas de Ventas"
   ]
  },
  {
   "cell_type": "markdown",
   "id": "3831b658-cee7-4548-bbd6-f44540270f85",
   "metadata": {},
   "source": [
    "#### Carlos Alberto Quintana Saucedo - A00807318"
   ]
  },
  {
   "cell_type": "markdown",
   "id": "bb216ad6-94d7-4e1c-b4bc-d8f5c6bfbd88",
   "metadata": {},
   "source": [
    "## Importación y procesamiento de datos."
   ]
  },
  {
   "cell_type": "code",
   "execution_count": 305,
   "id": "6e6eb970-9d9c-4557-9a09-2856e6336c55",
   "metadata": {},
   "outputs": [],
   "source": [
    "# Importar librerías necesarias.\n",
    "import pandas as pd\n",
    "import seaborn as sns\n",
    "from scipy.stats import ttest_ind\n",
    "from statsmodels.stats.multicomp import MultiComparison\n",
    "from scipy.stats import f_oneway\n",
    "from scipy.stats import mannwhitneyu\n",
    "from scipy.stats import kruskal\n",
    "#Definición de variables globales:\n",
    "alpha = 0.05"
   ]
  },
  {
   "cell_type": "code",
   "execution_count": 20,
   "id": "1c8814e3-bbc5-4fef-a622-462e06cb87bd",
   "metadata": {},
   "outputs": [
    {
     "name": "stdout",
     "output_type": "stream",
     "text": [
      "<class 'pandas.core.frame.DataFrame'>\n",
      "RangeIndex: 59 entries, 0 to 58\n",
      "Data columns (total 10 columns):\n",
      " #   Column       Non-Null Count  Dtype \n",
      "---  ------       --------------  ----- \n",
      " 0   Campaña      59 non-null     object\n",
      " 1   Fecha        59 non-null     object\n",
      " 2   Gasto        59 non-null     int64 \n",
      " 3   Impresiones  59 non-null     int64 \n",
      " 4   Alcance      59 non-null     int64 \n",
      " 5   Clicks       59 non-null     int64 \n",
      " 6   Busquedas    59 non-null     int64 \n",
      " 7   Vistas       59 non-null     int64 \n",
      " 8   NumCarritos  59 non-null     int64 \n",
      " 9   Compras      59 non-null     int64 \n",
      "dtypes: int64(8), object(2)\n",
      "memory usage: 4.7+ KB\n"
     ]
    }
   ],
   "source": [
    "# Importación, Preprocesamiento y Análisis inicial del data frame.\n",
    "df = pd.read_csv('https://github.com/EGADE00807318/IN4036.50_GPO_CampanasPublicidad/raw/main/raw/b08_practica%20-%20datos.csv')\n",
    "df.info()"
   ]
  },
  {
   "cell_type": "markdown",
   "id": "a50e3fe3-fc72-4ff6-a272-d44d9c1d1c9a",
   "metadata": {},
   "source": [
    "##### Nota: Cabe mencionar que al tener dos campañas en el mismo rango de fechas, hemos notado que deberíamos de tener un set de 30+30 datos, con un total de 60.\n",
    "##### Analizando un poco más los datos logramos percibir que nos falta la fecha de 8/5/2019 para la campaña de Control."
   ]
  },
  {
   "cell_type": "code",
   "execution_count": 22,
   "id": "f7c3a5db-e239-42ec-b01a-aa3a40973dca",
   "metadata": {},
   "outputs": [
    {
     "data": {
      "text/plain": [
       "Campaña        0\n",
       "Fecha          0\n",
       "Gasto          0\n",
       "Impresiones    0\n",
       "Alcance        0\n",
       "Clicks         0\n",
       "Busquedas      0\n",
       "Vistas         0\n",
       "NumCarritos    0\n",
       "Compras        0\n",
       "dtype: int64"
      ]
     },
     "execution_count": 22,
     "metadata": {},
     "output_type": "execute_result"
    }
   ],
   "source": [
    "# Análisis de la suma total de datos Nulos dentro de cada columna.\n",
    "df.isnull().sum()"
   ]
  },
  {
   "cell_type": "code",
   "execution_count": 24,
   "id": "a237c9a5-869d-417a-a32b-3d14e2bf169c",
   "metadata": {},
   "outputs": [
    {
     "data": {
      "text/html": [
       "<div>\n",
       "<style scoped>\n",
       "    .dataframe tbody tr th:only-of-type {\n",
       "        vertical-align: middle;\n",
       "    }\n",
       "\n",
       "    .dataframe tbody tr th {\n",
       "        vertical-align: top;\n",
       "    }\n",
       "\n",
       "    .dataframe thead th {\n",
       "        text-align: right;\n",
       "    }\n",
       "</style>\n",
       "<table border=\"1\" class=\"dataframe\">\n",
       "  <thead>\n",
       "    <tr style=\"text-align: right;\">\n",
       "      <th></th>\n",
       "      <th>Campaña</th>\n",
       "      <th>Fecha</th>\n",
       "      <th>Gasto</th>\n",
       "      <th>Impresiones</th>\n",
       "      <th>Alcance</th>\n",
       "      <th>Clicks</th>\n",
       "      <th>Busquedas</th>\n",
       "      <th>Vistas</th>\n",
       "      <th>NumCarritos</th>\n",
       "      <th>Compras</th>\n",
       "    </tr>\n",
       "  </thead>\n",
       "  <tbody>\n",
       "  </tbody>\n",
       "</table>\n",
       "</div>"
      ],
      "text/plain": [
       "Empty DataFrame\n",
       "Columns: [Campaña, Fecha, Gasto, Impresiones, Alcance, Clicks, Busquedas, Vistas, NumCarritos, Compras]\n",
       "Index: []"
      ]
     },
     "execution_count": 24,
     "metadata": {},
     "output_type": "execute_result"
    }
   ],
   "source": [
    "# Búsqueda de datos duplicados en el data frame.\n",
    "df[df.duplicated()]"
   ]
  },
  {
   "cell_type": "code",
   "execution_count": 86,
   "id": "e7360fca-7f69-4038-82ba-f8aefd506f8b",
   "metadata": {},
   "outputs": [
    {
     "data": {
      "text/html": [
       "<div>\n",
       "<style scoped>\n",
       "    .dataframe tbody tr th:only-of-type {\n",
       "        vertical-align: middle;\n",
       "    }\n",
       "\n",
       "    .dataframe tbody tr th {\n",
       "        vertical-align: top;\n",
       "    }\n",
       "\n",
       "    .dataframe thead th {\n",
       "        text-align: right;\n",
       "    }\n",
       "</style>\n",
       "<table border=\"1\" class=\"dataframe\">\n",
       "  <thead>\n",
       "    <tr style=\"text-align: right;\">\n",
       "      <th></th>\n",
       "      <th>Campaña</th>\n",
       "      <th>Fecha</th>\n",
       "      <th>Gasto</th>\n",
       "      <th>Impresiones</th>\n",
       "      <th>Alcance</th>\n",
       "      <th>Clicks</th>\n",
       "      <th>Busquedas</th>\n",
       "      <th>Vistas</th>\n",
       "      <th>NumCarritos</th>\n",
       "      <th>Compras</th>\n",
       "    </tr>\n",
       "  </thead>\n",
       "  <tbody>\n",
       "  </tbody>\n",
       "</table>\n",
       "</div>"
      ],
      "text/plain": [
       "Empty DataFrame\n",
       "Columns: [Campaña, Fecha, Gasto, Impresiones, Alcance, Clicks, Busquedas, Vistas, NumCarritos, Compras]\n",
       "Index: []"
      ]
     },
     "execution_count": 86,
     "metadata": {},
     "output_type": "execute_result"
    }
   ],
   "source": [
    "# Identifica qué observaciones tienen datos perdidos \n",
    "df[df.isna().any(axis=1)]"
   ]
  },
  {
   "cell_type": "code",
   "execution_count": 84,
   "id": "fb65591c-04d6-4c46-ac23-5346d92428d1",
   "metadata": {},
   "outputs": [
    {
     "data": {
      "text/html": [
       "<div>\n",
       "<style scoped>\n",
       "    .dataframe tbody tr th:only-of-type {\n",
       "        vertical-align: middle;\n",
       "    }\n",
       "\n",
       "    .dataframe tbody tr th {\n",
       "        vertical-align: top;\n",
       "    }\n",
       "\n",
       "    .dataframe thead th {\n",
       "        text-align: right;\n",
       "    }\n",
       "</style>\n",
       "<table border=\"1\" class=\"dataframe\">\n",
       "  <thead>\n",
       "    <tr style=\"text-align: right;\">\n",
       "      <th></th>\n",
       "      <th>Gasto</th>\n",
       "      <th>Impresiones</th>\n",
       "      <th>Alcance</th>\n",
       "      <th>Clicks</th>\n",
       "      <th>Busquedas</th>\n",
       "      <th>Vistas</th>\n",
       "      <th>NumCarritos</th>\n",
       "      <th>Compras</th>\n",
       "    </tr>\n",
       "  </thead>\n",
       "  <tbody>\n",
       "    <tr>\n",
       "      <th>count</th>\n",
       "      <td>59.000000</td>\n",
       "      <td>59.000000</td>\n",
       "      <td>59.000000</td>\n",
       "      <td>59.000000</td>\n",
       "      <td>59.000000</td>\n",
       "      <td>59.000000</td>\n",
       "      <td>59.000000</td>\n",
       "      <td>59.000000</td>\n",
       "    </tr>\n",
       "    <tr>\n",
       "      <th>mean</th>\n",
       "      <td>2435.762712</td>\n",
       "      <td>91775.881356</td>\n",
       "      <td>70868.644068</td>\n",
       "      <td>5682.593220</td>\n",
       "      <td>2321.813559</td>\n",
       "      <td>1900.169492</td>\n",
       "      <td>1087.220339</td>\n",
       "      <td>522.000000</td>\n",
       "    </tr>\n",
       "    <tr>\n",
       "      <th>std</th>\n",
       "      <td>376.358795</td>\n",
       "      <td>32465.070636</td>\n",
       "      <td>31023.653515</td>\n",
       "      <td>1754.777559</td>\n",
       "      <td>669.040576</td>\n",
       "      <td>687.263844</td>\n",
       "      <td>430.205246</td>\n",
       "      <td>196.973917</td>\n",
       "    </tr>\n",
       "    <tr>\n",
       "      <th>min</th>\n",
       "      <td>1757.000000</td>\n",
       "      <td>22521.000000</td>\n",
       "      <td>10598.000000</td>\n",
       "      <td>2277.000000</td>\n",
       "      <td>1001.000000</td>\n",
       "      <td>848.000000</td>\n",
       "      <td>278.000000</td>\n",
       "      <td>222.000000</td>\n",
       "    </tr>\n",
       "    <tr>\n",
       "      <th>25%</th>\n",
       "      <td>2113.500000</td>\n",
       "      <td>68853.500000</td>\n",
       "      <td>43230.000000</td>\n",
       "      <td>4227.500000</td>\n",
       "      <td>1962.500000</td>\n",
       "      <td>1249.000000</td>\n",
       "      <td>848.500000</td>\n",
       "      <td>340.000000</td>\n",
       "    </tr>\n",
       "    <tr>\n",
       "      <th>50%</th>\n",
       "      <td>2421.000000</td>\n",
       "      <td>95843.000000</td>\n",
       "      <td>76219.000000</td>\n",
       "      <td>5691.000000</td>\n",
       "      <td>2390.000000</td>\n",
       "      <td>1975.000000</td>\n",
       "      <td>1075.000000</td>\n",
       "      <td>501.000000</td>\n",
       "    </tr>\n",
       "    <tr>\n",
       "      <th>75%</th>\n",
       "      <td>2743.000000</td>\n",
       "      <td>117315.000000</td>\n",
       "      <td>95490.500000</td>\n",
       "      <td>7218.500000</td>\n",
       "      <td>2778.500000</td>\n",
       "      <td>2424.000000</td>\n",
       "      <td>1386.500000</td>\n",
       "      <td>693.000000</td>\n",
       "    </tr>\n",
       "    <tr>\n",
       "      <th>max</th>\n",
       "      <td>3112.000000</td>\n",
       "      <td>145248.000000</td>\n",
       "      <td>127852.000000</td>\n",
       "      <td>8264.000000</td>\n",
       "      <td>4891.000000</td>\n",
       "      <td>4219.000000</td>\n",
       "      <td>1913.000000</td>\n",
       "      <td>890.000000</td>\n",
       "    </tr>\n",
       "  </tbody>\n",
       "</table>\n",
       "</div>"
      ],
      "text/plain": [
       "             Gasto    Impresiones        Alcance       Clicks    Busquedas  \\\n",
       "count    59.000000      59.000000      59.000000    59.000000    59.000000   \n",
       "mean   2435.762712   91775.881356   70868.644068  5682.593220  2321.813559   \n",
       "std     376.358795   32465.070636   31023.653515  1754.777559   669.040576   \n",
       "min    1757.000000   22521.000000   10598.000000  2277.000000  1001.000000   \n",
       "25%    2113.500000   68853.500000   43230.000000  4227.500000  1962.500000   \n",
       "50%    2421.000000   95843.000000   76219.000000  5691.000000  2390.000000   \n",
       "75%    2743.000000  117315.000000   95490.500000  7218.500000  2778.500000   \n",
       "max    3112.000000  145248.000000  127852.000000  8264.000000  4891.000000   \n",
       "\n",
       "            Vistas  NumCarritos     Compras  \n",
       "count    59.000000    59.000000   59.000000  \n",
       "mean   1900.169492  1087.220339  522.000000  \n",
       "std     687.263844   430.205246  196.973917  \n",
       "min     848.000000   278.000000  222.000000  \n",
       "25%    1249.000000   848.500000  340.000000  \n",
       "50%    1975.000000  1075.000000  501.000000  \n",
       "75%    2424.000000  1386.500000  693.000000  \n",
       "max    4219.000000  1913.000000  890.000000  "
      ]
     },
     "execution_count": 84,
     "metadata": {},
     "output_type": "execute_result"
    }
   ],
   "source": [
    "# Obtención de datos estadísticos del data frame.\n",
    "df.describe()"
   ]
  },
  {
   "cell_type": "code",
   "execution_count": 28,
   "id": "dbca4b6c-8185-4a9c-bdb7-d0c0255bfe40",
   "metadata": {},
   "outputs": [
    {
     "data": {
      "text/html": [
       "<div>\n",
       "<style scoped>\n",
       "    .dataframe tbody tr th:only-of-type {\n",
       "        vertical-align: middle;\n",
       "    }\n",
       "\n",
       "    .dataframe tbody tr th {\n",
       "        vertical-align: top;\n",
       "    }\n",
       "\n",
       "    .dataframe thead th {\n",
       "        text-align: right;\n",
       "    }\n",
       "</style>\n",
       "<table border=\"1\" class=\"dataframe\">\n",
       "  <thead>\n",
       "    <tr style=\"text-align: right;\">\n",
       "      <th></th>\n",
       "      <th>Campaña</th>\n",
       "      <th>Fecha</th>\n",
       "      <th>Gasto</th>\n",
       "      <th>Impresiones</th>\n",
       "      <th>Alcance</th>\n",
       "      <th>Clicks</th>\n",
       "      <th>Busquedas</th>\n",
       "      <th>Vistas</th>\n",
       "      <th>NumCarritos</th>\n",
       "      <th>Compras</th>\n",
       "    </tr>\n",
       "  </thead>\n",
       "  <tbody>\n",
       "    <tr>\n",
       "      <th>0</th>\n",
       "      <td>Control</td>\n",
       "      <td>8/1/2019</td>\n",
       "      <td>2280</td>\n",
       "      <td>82702</td>\n",
       "      <td>56930</td>\n",
       "      <td>7016</td>\n",
       "      <td>2290</td>\n",
       "      <td>2159</td>\n",
       "      <td>1819</td>\n",
       "      <td>618</td>\n",
       "    </tr>\n",
       "    <tr>\n",
       "      <th>1</th>\n",
       "      <td>Control</td>\n",
       "      <td>8/2/2019</td>\n",
       "      <td>1757</td>\n",
       "      <td>121040</td>\n",
       "      <td>102513</td>\n",
       "      <td>8110</td>\n",
       "      <td>2033</td>\n",
       "      <td>1841</td>\n",
       "      <td>1219</td>\n",
       "      <td>511</td>\n",
       "    </tr>\n",
       "    <tr>\n",
       "      <th>2</th>\n",
       "      <td>Control</td>\n",
       "      <td>8/3/2019</td>\n",
       "      <td>2343</td>\n",
       "      <td>131711</td>\n",
       "      <td>110862</td>\n",
       "      <td>6508</td>\n",
       "      <td>1737</td>\n",
       "      <td>1549</td>\n",
       "      <td>1134</td>\n",
       "      <td>372</td>\n",
       "    </tr>\n",
       "    <tr>\n",
       "      <th>3</th>\n",
       "      <td>Control</td>\n",
       "      <td>8/4/2019</td>\n",
       "      <td>1940</td>\n",
       "      <td>72878</td>\n",
       "      <td>61235</td>\n",
       "      <td>3065</td>\n",
       "      <td>1042</td>\n",
       "      <td>982</td>\n",
       "      <td>1183</td>\n",
       "      <td>340</td>\n",
       "    </tr>\n",
       "    <tr>\n",
       "      <th>4</th>\n",
       "      <td>Control</td>\n",
       "      <td>8/6/2019</td>\n",
       "      <td>3083</td>\n",
       "      <td>109076</td>\n",
       "      <td>87998</td>\n",
       "      <td>4028</td>\n",
       "      <td>1709</td>\n",
       "      <td>1249</td>\n",
       "      <td>784</td>\n",
       "      <td>764</td>\n",
       "    </tr>\n",
       "  </tbody>\n",
       "</table>\n",
       "</div>"
      ],
      "text/plain": [
       "   Campaña     Fecha  Gasto  Impresiones  Alcance  Clicks  Busquedas  Vistas  \\\n",
       "0  Control  8/1/2019   2280        82702    56930    7016       2290    2159   \n",
       "1  Control  8/2/2019   1757       121040   102513    8110       2033    1841   \n",
       "2  Control  8/3/2019   2343       131711   110862    6508       1737    1549   \n",
       "3  Control  8/4/2019   1940        72878    61235    3065       1042     982   \n",
       "4  Control  8/6/2019   3083       109076    87998    4028       1709    1249   \n",
       "\n",
       "   NumCarritos  Compras  \n",
       "0         1819      618  \n",
       "1         1219      511  \n",
       "2         1134      372  \n",
       "3         1183      340  \n",
       "4          784      764  "
      ]
     },
     "execution_count": 28,
     "metadata": {},
     "output_type": "execute_result"
    }
   ],
   "source": [
    "# Ejemplo de la cabecera del data frame como referencia inicial.\n",
    "df.head()"
   ]
  },
  {
   "cell_type": "code",
   "execution_count": 112,
   "id": "59c00a33-a1c1-421a-9a26-1f8f581a233d",
   "metadata": {},
   "outputs": [],
   "source": [
    "# Se agrega nuevo renglón al data frame de la fecha faltante con las medias de cada uno de los valores respecto a la campaña de Control.\n",
    "new_row = {'Campaña': 'Control', 'Fecha': '8/5/2019','Gasto': df[(df['Campaña'] == 'Control')]['Gasto'].mean().round(),'Impresiones': df[(df['Campaña'] == 'Control')]['Impresiones'].mean().round(),'Alcance': df[(df['Campaña'] == 'Control')]['Alcance'].mean().round(),'Clicks': df[(df['Campaña'] == 'Control')]['Clicks'].mean().round(),'Busquedas': df[(df['Campaña'] == 'Control')]['Busquedas'].mean().round(),'Vistas': df[(df['Campaña'] == 'Control')]['Vistas'].mean().round(),'NumCarritos': df[(df['Campaña'] == 'Control')]['NumCarritos'].mean().round(),'Compras': df[(df['Campaña'] == 'Control')]['Compras'].mean().round()}\n",
    "df = pd.concat([df, pd.DataFrame([new_row])], ignore_index=True)"
   ]
  },
  {
   "cell_type": "code",
   "execution_count": 127,
   "id": "6230f50f-3c6c-4c92-a4a8-07e978a61e02",
   "metadata": {},
   "outputs": [
    {
     "data": {
      "text/html": [
       "<div>\n",
       "<style scoped>\n",
       "    .dataframe tbody tr th:only-of-type {\n",
       "        vertical-align: middle;\n",
       "    }\n",
       "\n",
       "    .dataframe tbody tr th {\n",
       "        vertical-align: top;\n",
       "    }\n",
       "\n",
       "    .dataframe thead th {\n",
       "        text-align: right;\n",
       "    }\n",
       "</style>\n",
       "<table border=\"1\" class=\"dataframe\">\n",
       "  <thead>\n",
       "    <tr style=\"text-align: right;\">\n",
       "      <th></th>\n",
       "      <th>Campaña</th>\n",
       "      <th>Fecha</th>\n",
       "      <th>Gasto</th>\n",
       "      <th>Impresiones</th>\n",
       "      <th>Alcance</th>\n",
       "      <th>Clicks</th>\n",
       "      <th>Busquedas</th>\n",
       "      <th>Vistas</th>\n",
       "      <th>NumCarritos</th>\n",
       "      <th>Compras</th>\n",
       "    </tr>\n",
       "  </thead>\n",
       "  <tbody>\n",
       "    <tr>\n",
       "      <th>55</th>\n",
       "      <td>Test</td>\n",
       "      <td>8/27/2019</td>\n",
       "      <td>2915.0</td>\n",
       "      <td>111469.0</td>\n",
       "      <td>92159.0</td>\n",
       "      <td>6435.0</td>\n",
       "      <td>2976.0</td>\n",
       "      <td>2552.0</td>\n",
       "      <td>992.0</td>\n",
       "      <td>771.0</td>\n",
       "    </tr>\n",
       "    <tr>\n",
       "      <th>56</th>\n",
       "      <td>Test</td>\n",
       "      <td>8/28/2019</td>\n",
       "      <td>2247.0</td>\n",
       "      <td>54627.0</td>\n",
       "      <td>41267.0</td>\n",
       "      <td>8144.0</td>\n",
       "      <td>2432.0</td>\n",
       "      <td>1281.0</td>\n",
       "      <td>1009.0</td>\n",
       "      <td>721.0</td>\n",
       "    </tr>\n",
       "    <tr>\n",
       "      <th>57</th>\n",
       "      <td>Test</td>\n",
       "      <td>8/29/2019</td>\n",
       "      <td>2805.0</td>\n",
       "      <td>67444.0</td>\n",
       "      <td>43219.0</td>\n",
       "      <td>7651.0</td>\n",
       "      <td>1920.0</td>\n",
       "      <td>1240.0</td>\n",
       "      <td>1168.0</td>\n",
       "      <td>677.0</td>\n",
       "    </tr>\n",
       "    <tr>\n",
       "      <th>58</th>\n",
       "      <td>Test</td>\n",
       "      <td>8/30/2019</td>\n",
       "      <td>1977.0</td>\n",
       "      <td>120203.0</td>\n",
       "      <td>89380.0</td>\n",
       "      <td>4399.0</td>\n",
       "      <td>2978.0</td>\n",
       "      <td>1625.0</td>\n",
       "      <td>1034.0</td>\n",
       "      <td>572.0</td>\n",
       "    </tr>\n",
       "    <tr>\n",
       "      <th>59</th>\n",
       "      <td>Control</td>\n",
       "      <td>8/5/2019</td>\n",
       "      <td>2304.0</td>\n",
       "      <td>109560.0</td>\n",
       "      <td>88845.0</td>\n",
       "      <td>5321.0</td>\n",
       "      <td>2221.0</td>\n",
       "      <td>1944.0</td>\n",
       "      <td>1300.0</td>\n",
       "      <td>523.0</td>\n",
       "    </tr>\n",
       "  </tbody>\n",
       "</table>\n",
       "</div>"
      ],
      "text/plain": [
       "    Campaña      Fecha   Gasto  Impresiones  Alcance  Clicks  Busquedas  \\\n",
       "55     Test  8/27/2019  2915.0     111469.0  92159.0  6435.0     2976.0   \n",
       "56     Test  8/28/2019  2247.0      54627.0  41267.0  8144.0     2432.0   \n",
       "57     Test  8/29/2019  2805.0      67444.0  43219.0  7651.0     1920.0   \n",
       "58     Test  8/30/2019  1977.0     120203.0  89380.0  4399.0     2978.0   \n",
       "59  Control   8/5/2019  2304.0     109560.0  88845.0  5321.0     2221.0   \n",
       "\n",
       "    Vistas  NumCarritos  Compras  \n",
       "55  2552.0        992.0    771.0  \n",
       "56  1281.0       1009.0    721.0  \n",
       "57  1240.0       1168.0    677.0  \n",
       "58  1625.0       1034.0    572.0  \n",
       "59  1944.0       1300.0    523.0  "
      ]
     },
     "execution_count": 127,
     "metadata": {},
     "output_type": "execute_result"
    }
   ],
   "source": [
    "# Validamos el nuevo renglón insertado con la media de todos los valores numéricos:\n",
    "df.tail()"
   ]
  },
  {
   "cell_type": "markdown",
   "id": "2a07cc03-273d-4440-8cee-9fd45e903219",
   "metadata": {},
   "source": [
    "## Análisis estadístico."
   ]
  },
  {
   "cell_type": "markdown",
   "id": "e1b8819a-ebfc-473b-a567-884a6cf689e6",
   "metadata": {},
   "source": [
    "**Prueba T**\n",
    "\n",
    "Realizaremos una prueba t para comparar dos proporciones.\n",
    "Utilizaremos una prueba bilateral, por lo tanto, las hipótesis se plantean como:\n",
    "\n",
    "Planteamiento de hipótesis:\n",
    "\n",
    "- $H_0: \\mu_1 = \\mu_2$    (Hipótesis nula) [No existe una relación entre las dos variables.]\n",
    "- $H_1: \\mu_1 \\neq \\mu_2$ (Hipótesis alternativa)"
   ]
  },
  {
   "cell_type": "code",
   "execution_count": 120,
   "id": "3615ff51-9564-4628-86c6-35e3d9b48f6d",
   "metadata": {},
   "outputs": [
    {
     "data": {
      "text/html": [
       "<div>\n",
       "<style scoped>\n",
       "    .dataframe tbody tr th:only-of-type {\n",
       "        vertical-align: middle;\n",
       "    }\n",
       "\n",
       "    .dataframe tbody tr th {\n",
       "        vertical-align: top;\n",
       "    }\n",
       "\n",
       "    .dataframe thead th {\n",
       "        text-align: right;\n",
       "    }\n",
       "</style>\n",
       "<table border=\"1\" class=\"dataframe\">\n",
       "  <thead>\n",
       "    <tr style=\"text-align: right;\">\n",
       "      <th></th>\n",
       "      <th>Impresiones</th>\n",
       "    </tr>\n",
       "    <tr>\n",
       "      <th>Campaña</th>\n",
       "      <th></th>\n",
       "    </tr>\n",
       "  </thead>\n",
       "  <tbody>\n",
       "    <tr>\n",
       "      <th>Control</th>\n",
       "      <td>109559.766667</td>\n",
       "    </tr>\n",
       "    <tr>\n",
       "      <th>Test</th>\n",
       "      <td>74584.800000</td>\n",
       "    </tr>\n",
       "  </tbody>\n",
       "</table>\n",
       "</div>"
      ],
      "text/plain": [
       "           Impresiones\n",
       "Campaña               \n",
       "Control  109559.766667\n",
       "Test      74584.800000"
      ]
     },
     "execution_count": 120,
     "metadata": {},
     "output_type": "execute_result"
    }
   ],
   "source": [
    "# Estadística descriptiva para la variable de Impresiones (aplicando un método de agregación)\n",
    "df.groupby('Campaña').agg({'Impresiones':'mean'})"
   ]
  },
  {
   "cell_type": "code",
   "execution_count": 132,
   "id": "61f74a2d-7e2c-4165-bd08-236ae008538d",
   "metadata": {},
   "outputs": [
    {
     "name": "stdout",
     "output_type": "stream",
     "text": [
      "Estadístico t: 4.969500434849533\n",
      "Valor p: 6.273684428098891e-06\n"
     ]
    }
   ],
   "source": [
    "# Filtramos los datos para obtener los grupos\n",
    "control = df[df['Campaña'] == 'Control']['Impresiones']\n",
    "experimental = df[df['Campaña'] == 'Test']['Impresiones']\n",
    "\n",
    "# Realizar la prueba t de dos muestras independientes\n",
    "t_statistic, p_value = ttest_ind(control, experimental)\n",
    "\n",
    "print(\"Estadístico t:\", t_statistic)\n",
    "print(\"Valor p:\", p_value)"
   ]
  },
  {
   "cell_type": "code",
   "execution_count": 134,
   "id": "aa2b73d8-5edb-4ffe-91b1-6645789eff41",
   "metadata": {},
   "outputs": [
    {
     "name": "stdout",
     "output_type": "stream",
     "text": [
      "Se rechaza la hipótesis nula: hay evidencia de diferencias significativas en las medias.\n"
     ]
    }
   ],
   "source": [
    "# Interpretar los resultados\n",
    "if p_value < alpha: print(\"Se rechaza la hipótesis nula: hay evidencia de diferencias significativas en las medias.\")\n",
    "else: print(\"No se puede rechazar la hipótesis nula: no hay suficiente evidencia para afirmar diferencias significativas en las medias.\")"
   ]
  },
  {
   "cell_type": "code",
   "execution_count": 353,
   "id": "48722c82-866b-492d-a1b8-d3ed2c573c7d",
   "metadata": {},
   "outputs": [
    {
     "data": {
      "text/html": [
       "<div>\n",
       "<style scoped>\n",
       "    .dataframe tbody tr th:only-of-type {\n",
       "        vertical-align: middle;\n",
       "    }\n",
       "\n",
       "    .dataframe tbody tr th {\n",
       "        vertical-align: top;\n",
       "    }\n",
       "\n",
       "    .dataframe thead th {\n",
       "        text-align: right;\n",
       "    }\n",
       "</style>\n",
       "<table border=\"1\" class=\"dataframe\">\n",
       "  <thead>\n",
       "    <tr style=\"text-align: right;\">\n",
       "      <th></th>\n",
       "      <th>Impresiones</th>\n",
       "    </tr>\n",
       "    <tr>\n",
       "      <th>Campaña</th>\n",
       "      <th></th>\n",
       "    </tr>\n",
       "  </thead>\n",
       "  <tbody>\n",
       "    <tr>\n",
       "      <th>Control</th>\n",
       "      <td>109559.766667</td>\n",
       "    </tr>\n",
       "    <tr>\n",
       "      <th>Test</th>\n",
       "      <td>74584.800000</td>\n",
       "    </tr>\n",
       "  </tbody>\n",
       "</table>\n",
       "</div>"
      ],
      "text/plain": [
       "           Impresiones\n",
       "Campaña               \n",
       "Control  109559.766667\n",
       "Test      74584.800000"
      ]
     },
     "execution_count": 353,
     "metadata": {},
     "output_type": "execute_result"
    }
   ],
   "source": [
    "# Estadística descriptiva para la variable de Gasto (aplicando un método de agregación)\n",
    "df.groupby('Campaña').agg({'Impresiones':'mean'})"
   ]
  },
  {
   "cell_type": "code",
   "execution_count": 351,
   "id": "c1a5d9bb-5971-4adf-a011-18871d557a53",
   "metadata": {},
   "outputs": [
    {
     "data": {
      "image/png": "[encoded data removed]",
      "text/plain": [
       "<Figure size 640x480 with 1 Axes>"
      ]
     },
     "metadata": {},
     "output_type": "display_data"
    }
   ],
   "source": [
    "# Se genera un diagrama de caja para comparar gráficamente los dos tipos de campaña respecto a la variable Impresiones\n",
    "sns.boxplot(x = \"Campaña\", y = \"Impresiones\", data = df);"
   ]
  },
  {
   "cell_type": "markdown",
   "id": "fbb2663c-dfd8-408e-a8c8-9591d5f6a37b",
   "metadata": {},
   "source": [
    "-----------------------------------------\n",
    "La teroría nos comenta que si la muestra es pequeña (p<30) se requiere evaluar la normalidad en la distribución de los datos.\n",
    "\n",
    "En este caso en particular, la muestra es mayor a la condicional, pero como *experimentación* aplicaremos una prueba de **Shapiro-Wilk** sobre la variable de **Impresiones** solo para observar la normalidad de los datos en esta columna."
   ]
  },
  {
   "cell_type": "code",
   "execution_count": 146,
   "id": "210aec7e-0aa6-4f21-a499-da4d22648241",
   "metadata": {},
   "outputs": [
    {
     "name": "stdout",
     "output_type": "stream",
     "text": [
      "Estadístico de prueba: 0.9518315811644074\n",
      "Valor p: 0.019007372363126215\n"
     ]
    }
   ],
   "source": [
    "# Aplicamos solo como experimentación de resultados la evaluación de la normalidad en la distribución de los datos con Shapiro-Wilk\n",
    "stat, p_value = stats.shapiro(df['Impresiones'])\n",
    "print(\"Estadístico de prueba:\", stat)\n",
    "print(\"Valor p:\", p_value)"
   ]
  },
  {
   "cell_type": "code",
   "execution_count": 160,
   "id": "3328fcd1-0c91-46eb-916a-281b765f1ab5",
   "metadata": {},
   "outputs": [
    {
     "name": "stdout",
     "output_type": "stream",
     "text": [
      "Se rechaza la hipótesis nula de normalidad en los datos.\n"
     ]
    }
   ],
   "source": [
    "# Interpretar los resultados de la normalidad:\n",
    "if p_value < alpha: print(\"Se rechaza la hipótesis nula de normalidad en los datos.\")\n",
    "else: print(\"No se puede rechazar la hipótesis nula de normalidad en los datos.\")"
   ]
  },
  {
   "cell_type": "markdown",
   "id": "72060afc-30ac-4280-b805-8961d660a5e0",
   "metadata": {},
   "source": [
    "-----------------------------------------"
   ]
  },
  {
   "cell_type": "markdown",
   "id": "52497a14-3b11-431b-89e2-931a8c10fab3",
   "metadata": {},
   "source": [
    "##### **(Se continúa con la evaluación de las demás variables)**"
   ]
  },
  {
   "cell_type": "code",
   "execution_count": 358,
   "id": "50f2dacb-2cee-4958-9f2b-569e9dd958ee",
   "metadata": {},
   "outputs": [
    {
     "name": "stdout",
     "output_type": "stream",
     "text": [
      "               Gasto\n",
      "Campaña             \n",
      "Control  2304.066667\n",
      "Test     2563.066667\n",
      "\n",
      "\n",
      "Estadístico t: -2.841847334129529\n",
      "Valor p: 0.006180448152954714\n",
      "\n",
      "\n",
      "Se rechaza la hipótesis nula: hay evidencia de diferencias significativas en las medias.\n"
     ]
    }
   ],
   "source": [
    "# Estadística descriptiva para la variable de Alcance (aplicando un método de agregación)\n",
    "print(df.groupby('Campaña').agg({'Gasto':'mean'}))\n",
    "print('\\n')\n",
    "# Filtramos los datos para obtener los grupos\n",
    "control = df[df['Campaña'] == 'Control']['Gasto']\n",
    "experimental = df[df['Campaña'] == 'Test']['Gasto']\n",
    "# Realizar la prueba t de dos muestras independientes\n",
    "t_statistic, p_value = ttest_ind(control, experimental)\n",
    "print(\"Estadístico t:\", t_statistic)\n",
    "print(\"Valor p:\", p_value)\n",
    "print('\\n')\n",
    "# Interpretar los resultados\n",
    "if p_value < alpha: print(\"Se rechaza la hipótesis nula: hay evidencia de diferencias significativas en las medias.\")\n",
    "else: print(\"No se puede rechazar la hipótesis nula: no hay suficiente evidencia para afirmar diferencias significativas en las medias.\")"
   ]
  },
  {
   "cell_type": "code",
   "execution_count": 361,
   "id": "df674566-cccc-4e05-acce-8c7ae20814bc",
   "metadata": {},
   "outputs": [
    {
     "data": {
      "image/png": "[encoded data removed]",
      "text/plain": [
       "<Figure size 640x480 with 1 Axes>"
      ]
     },
     "metadata": {},
     "output_type": "display_data"
    }
   ],
   "source": [
    "# Se genera un diagrama de caja para comparar gráficamente los dos tipos de campaña respecto a la variable Gasto\n",
    "sns.boxplot(x = \"Campaña\", y = \"Gasto\", data = df);"
   ]
  },
  {
   "cell_type": "code",
   "execution_count": 180,
   "id": "dddace16-df66-402d-ad67-a92abbf3c54f",
   "metadata": {},
   "outputs": [
    {
     "name": "stdout",
     "output_type": "stream",
     "text": [
      "              Alcance\n",
      "Campaña              \n",
      "Control  88844.933333\n",
      "Test     53491.566667\n",
      "\n",
      "\n",
      "Estadístico t: 5.392567159520321\n",
      "Valor p: 1.3332057238562505e-06\n",
      "\n",
      "\n",
      "Se rechaza la hipótesis nula: hay evidencia de diferencias significativas en las medias.\n"
     ]
    }
   ],
   "source": [
    "# Estadística descriptiva para la variable de Alcance (aplicando un método de agregación)\n",
    "print(df.groupby('Campaña').agg({'Alcance':'mean'}))\n",
    "print('\\n')\n",
    "# Filtramos los datos para obtener los grupos\n",
    "control = df[df['Campaña'] == 'Control']['Alcance']\n",
    "experimental = df[df['Campaña'] == 'Test']['Alcance']\n",
    "# Realizar la prueba t de dos muestras independientes\n",
    "t_statistic, p_value = ttest_ind(control, experimental)\n",
    "print(\"Estadístico t:\", t_statistic)\n",
    "print(\"Valor p:\", p_value)\n",
    "print('\\n')\n",
    "# Interpretar los resultados\n",
    "if p_value < alpha: print(\"Se rechaza la hipótesis nula: hay evidencia de diferencias significativas en las medias.\")\n",
    "else: print(\"No se puede rechazar la hipótesis nula: no hay suficiente evidencia para afirmar diferencias significativas en las medias.\")"
   ]
  },
  {
   "cell_type": "code",
   "execution_count": 363,
   "id": "480d48ae-9bc0-41b4-bd89-422ce99fff8d",
   "metadata": {},
   "outputs": [
    {
     "data": {
      "image/png": "[encoded data removed]",
      "text/plain": [
       "<Figure size 640x480 with 1 Axes>"
      ]
     },
     "metadata": {},
     "output_type": "display_data"
    }
   ],
   "source": [
    "# Se genera un diagrama de caja para comparar gráficamente los dos tipos de campaña respecto a la variable Gasto\n",
    "sns.boxplot(x = \"Campaña\", y = \"Alcance\", data = df);"
   ]
  },
  {
   "cell_type": "code",
   "execution_count": 182,
   "id": "3d74318a-f389-40b6-84fe-6efeef09f690",
   "metadata": {},
   "outputs": [
    {
     "name": "stdout",
     "output_type": "stream",
     "text": [
      "              Clicks\n",
      "Campaña             \n",
      "Control  5320.800000\n",
      "Test     6032.333333\n",
      "\n",
      "\n",
      "Estadístico t: -1.6043204222436545\n",
      "Valor p: 0.11407550324170806\n",
      "\n",
      "\n",
      "No se puede rechazar la hipótesis nula: no hay suficiente evidencia para afirmar diferencias significativas en las medias.\n"
     ]
    }
   ],
   "source": [
    "# Estadística descriptiva para la variable de Clicks (aplicando un método de agregación)\n",
    "print(df.groupby('Campaña').agg({'Clicks':'mean'}))\n",
    "print('\\n')\n",
    "# Filtramos los datos para obtener los grupos\n",
    "control = df[df['Campaña'] == 'Control']['Clicks']\n",
    "experimental = df[df['Campaña'] == 'Test']['Clicks']\n",
    "# Realizar la prueba t de dos muestras independientes\n",
    "t_statistic, p_value = ttest_ind(control, experimental)\n",
    "print(\"Estadístico t:\", t_statistic)\n",
    "print(\"Valor p:\", p_value)\n",
    "print('\\n')\n",
    "# Interpretar los resultados\n",
    "if p_value < alpha: print(\"Se rechaza la hipótesis nula: hay evidencia de diferencias significativas en las medias.\")\n",
    "else: print(\"No se puede rechazar la hipótesis nula: no hay suficiente evidencia para afirmar diferencias significativas en las medias.\")"
   ]
  },
  {
   "cell_type": "code",
   "execution_count": 365,
   "id": "229f2db8-ea30-4a27-b9a5-a400037b5c52",
   "metadata": {},
   "outputs": [
    {
     "data": {
      "image/png": "[encoded data removed]",
      "text/plain": [
       "<Figure size 640x480 with 1 Axes>"
      ]
     },
     "metadata": {},
     "output_type": "display_data"
    }
   ],
   "source": [
    "# Se genera un diagrama de caja para comparar gráficamente los dos tipos de campaña respecto a la variable Gasto\n",
    "sns.boxplot(x = \"Campaña\", y = \"Clicks\", data = df);"
   ]
  },
  {
   "cell_type": "code",
   "execution_count": 184,
   "id": "e1bacbf9-d0f6-4577-9200-ca6d51a8383d",
   "metadata": {},
   "outputs": [
    {
     "name": "stdout",
     "output_type": "stream",
     "text": [
      "           Busquedas\n",
      "Campaña             \n",
      "Control  2221.300000\n",
      "Test     2418.966667\n",
      "\n",
      "\n",
      "Estadístico t: -1.157175832631501\n",
      "Valor p: 0.25194409832146725\n",
      "\n",
      "\n",
      "No se puede rechazar la hipótesis nula: no hay suficiente evidencia para afirmar diferencias significativas en las medias.\n"
     ]
    }
   ],
   "source": [
    "# Estadística descriptiva para la variable de Busquedas (aplicando un método de agregación)\n",
    "print(df.groupby('Campaña').agg({'Busquedas':'mean'}))\n",
    "print('\\n')\n",
    "# Filtramos los datos para obtener los grupos\n",
    "control = df[df['Campaña'] == 'Control']['Busquedas']\n",
    "experimental = df[df['Campaña'] == 'Test']['Busquedas']\n",
    "# Realizar la prueba t de dos muestras independientes\n",
    "t_statistic, p_value = ttest_ind(control, experimental)\n",
    "print(\"Estadístico t:\", t_statistic)\n",
    "print(\"Valor p:\", p_value)\n",
    "print('\\n')\n",
    "# Interpretar los resultados\n",
    "if p_value < alpha: print(\"Se rechaza la hipótesis nula: hay evidencia de diferencias significativas en las medias.\")\n",
    "else: print(\"No se puede rechazar la hipótesis nula: no hay suficiente evidencia para afirmar diferencias significativas en las medias.\")"
   ]
  },
  {
   "cell_type": "code",
   "execution_count": 367,
   "id": "5f0b5b66-d850-44af-aff5-da2514fa864c",
   "metadata": {},
   "outputs": [
    {
     "data": {
      "image/png": "[encoded data removed]",
      "text/plain": [
       "<Figure size 640x480 with 1 Axes>"
      ]
     },
     "metadata": {},
     "output_type": "display_data"
    }
   ],
   "source": [
    "# Se genera un diagrama de caja para comparar gráficamente los dos tipos de campaña respecto a la variable Gasto\n",
    "sns.boxplot(x = \"Campaña\", y = \"Busquedas\", data = df);\n",
    "# Nota: Cabe mencionar que en esta variable se detecta un valor atípico dentro del set de datos."
   ]
  },
  {
   "cell_type": "code",
   "execution_count": 188,
   "id": "91d07132-e670-4bd0-bb43-52b1ed3fa456",
   "metadata": {},
   "outputs": [
    {
     "name": "stdout",
     "output_type": "stream",
     "text": [
      "         Vistas\n",
      "Campaña        \n",
      "Control  1943.8\n",
      "Test     1858.0\n",
      "\n",
      "\n",
      "Estadístico t: 0.48447506712203964\n",
      "Valor p: 0.629873332724594\n",
      "\n",
      "\n",
      "No se puede rechazar la hipótesis nula: no hay suficiente evidencia para afirmar diferencias significativas en las medias.\n"
     ]
    }
   ],
   "source": [
    "# Estadística descriptiva para la variable de Vistas (aplicando un método de agregación)\n",
    "print(df.groupby('Campaña').agg({'Vistas':'mean'}))\n",
    "print('\\n')\n",
    "# Filtramos los datos para obtener los grupos\n",
    "control = df[df['Campaña'] == 'Control']['Vistas']\n",
    "experimental = df[df['Campaña'] == 'Test']['Vistas']\n",
    "# Realizar la prueba t de dos muestras independientes\n",
    "t_statistic, p_value = ttest_ind(control, experimental)\n",
    "print(\"Estadístico t:\", t_statistic)\n",
    "print(\"Valor p:\", p_value)\n",
    "print('\\n')\n",
    "# Interpretar los resultados\n",
    "if p_value < alpha: print(\"Se rechaza la hipótesis nula: hay evidencia de diferencias significativas en las medias.\")\n",
    "else: print(\"No se puede rechazar la hipótesis nula: no hay suficiente evidencia para afirmar diferencias significativas en las medias.\")"
   ]
  },
  {
   "cell_type": "code",
   "execution_count": 369,
   "id": "d7866d64-8972-478c-9a84-4703a941ab64",
   "metadata": {},
   "outputs": [
    {
     "data": {
      "image/png": "[encoded data removed]",
      "text/plain": [
       "<Figure size 640x480 with 1 Axes>"
      ]
     },
     "metadata": {},
     "output_type": "display_data"
    }
   ],
   "source": [
    "# Se genera un diagrama de caja para comparar gráficamente los dos tipos de campaña respecto a la variable Gasto\n",
    "sns.boxplot(x = \"Campaña\", y = \"Vistas\", data = df);\n",
    "# Nota: Se detecta valor atípico dentro del grupo de Control"
   ]
  },
  {
   "cell_type": "code",
   "execution_count": 190,
   "id": "0f8cbedf-8ba2-4952-8d24-fde6822144fe",
   "metadata": {},
   "outputs": [
    {
     "name": "stdout",
     "output_type": "stream",
     "text": [
      "         NumCarritos\n",
      "Campaña             \n",
      "Control  1300.000000\n",
      "Test      881.533333\n",
      "\n",
      "\n",
      "Estadístico t: 4.3229665186173625\n",
      "Valor p: 6.124488718225843e-05\n",
      "\n",
      "\n",
      "Se rechaza la hipótesis nula: hay evidencia de diferencias significativas en las medias.\n"
     ]
    }
   ],
   "source": [
    "# Estadística descriptiva para la variable de NumCarritos (aplicando un método de agregación)\n",
    "print(df.groupby('Campaña').agg({'NumCarritos':'mean'}))\n",
    "print('\\n')\n",
    "# Filtramos los datos para obtener los grupos\n",
    "control = df[df['Campaña'] == 'Control']['NumCarritos']\n",
    "experimental = df[df['Campaña'] == 'Test']['NumCarritos']\n",
    "# Realizar la prueba t de dos muestras independientes\n",
    "t_statistic, p_value = ttest_ind(control, experimental)\n",
    "print(\"Estadístico t:\", t_statistic)\n",
    "print(\"Valor p:\", p_value)\n",
    "print('\\n')\n",
    "# Interpretar los resultados\n",
    "if p_value < alpha: print(\"Se rechaza la hipótesis nula: hay evidencia de diferencias significativas en las medias.\")\n",
    "else: print(\"No se puede rechazar la hipótesis nula: no hay suficiente evidencia para afirmar diferencias significativas en las medias.\")"
   ]
  },
  {
   "cell_type": "code",
   "execution_count": 371,
   "id": "0dbb692f-2a3c-4c4e-a118-0d281afed03c",
   "metadata": {},
   "outputs": [
    {
     "data": {
      "image/png": "[encoded data removed]",
      "text/plain": [
       "<Figure size 640x480 with 1 Axes>"
      ]
     },
     "metadata": {},
     "output_type": "display_data"
    }
   ],
   "source": [
    "# Se genera un diagrama de caja para comparar gráficamente los dos tipos de campaña respecto a la variable Gasto\n",
    "sns.boxplot(x = \"Campaña\", y = \"NumCarritos\", data = df);"
   ]
  },
  {
   "cell_type": "code",
   "execution_count": 192,
   "id": "0fd13f52-1459-4c84-b3c5-3c944ba60005",
   "metadata": {},
   "outputs": [
    {
     "name": "stdout",
     "output_type": "stream",
     "text": [
      "            Compras\n",
      "Campaña            \n",
      "Control  522.800000\n",
      "Test     521.233333\n",
      "\n",
      "\n",
      "Estadístico t: 0.03080469891258519\n",
      "Valor p: 0.9755310519815795\n",
      "\n",
      "\n",
      "No se puede rechazar la hipótesis nula: no hay suficiente evidencia para afirmar diferencias significativas en las medias.\n"
     ]
    }
   ],
   "source": [
    "# Estadística descriptiva para la variable de Compras (aplicando un método de agregación)\n",
    "print(df.groupby('Campaña').agg({'Compras':'mean'}))\n",
    "print('\\n')\n",
    "# Filtramos los datos para obtener los grupos\n",
    "control = df[df['Campaña'] == 'Control']['Compras']\n",
    "experimental = df[df['Campaña'] == 'Test']['Compras']\n",
    "# Realizar la prueba t de dos muestras independientes\n",
    "t_statistic, p_value = ttest_ind(control, experimental)\n",
    "print(\"Estadístico t:\", t_statistic)\n",
    "print(\"Valor p:\", p_value)\n",
    "print('\\n')\n",
    "# Interpretar los resultados\n",
    "if p_value < alpha: print(\"Se rechaza la hipótesis nula: hay evidencia de diferencias significativas en las medias.\")\n",
    "else: print(\"No se puede rechazar la hipótesis nula: no hay suficiente evidencia para afirmar diferencias significativas en las medias.\")"
   ]
  },
  {
   "cell_type": "code",
   "execution_count": 373,
   "id": "87182122-dd55-47c3-ba2c-7e289d411869",
   "metadata": {},
   "outputs": [
    {
     "data": {
      "image/png": "[encoded data removed]",
      "text/plain": [
       "<Figure size 640x480 with 1 Axes>"
      ]
     },
     "metadata": {},
     "output_type": "display_data"
    }
   ],
   "source": [
    "# Se genera un diagrama de caja para comparar gráficamente los dos tipos de campaña respecto a la variable Gasto\n",
    "sns.boxplot(x = \"Campaña\", y = \"Compras\", data = df);"
   ]
  },
  {
   "cell_type": "markdown",
   "id": "88e9bb0f-1a18-4063-8ced-f0107fd11833",
   "metadata": {},
   "source": [
    "--------------------------------------------------"
   ]
  },
  {
   "cell_type": "markdown",
   "id": "1e6aab5b-a426-48c5-a390-d3875b42a1e8",
   "metadata": {},
   "source": [
    "**Prueba ANOVA**\n",
    "\n",
    "El análisis de varianza (ANOVA) describe a un conjunto técnicas estadísticas que se utilizan para comparar la media entre dos o más grupos. La hipótesis nula es que todas las medias son iguales mientras que la hipótesis alternativa plantea que al menos una es diferente."
   ]
  },
  {
   "cell_type": "code",
   "execution_count": 200,
   "id": "b5a49243-8165-46ba-bf71-aff7f9fd5a13",
   "metadata": {},
   "outputs": [
    {
     "name": "stdout",
     "output_type": "stream",
     "text": [
      "Estadístico de prueba de ANOVA: 8.07609627049911\n",
      "Valor p: 0.006180448152954734\n",
      "Se rechaza la hipótesis nula: hay al menos una diferencia significativa entre los grupos.\n"
     ]
    }
   ],
   "source": [
    "# Filtramos los datos para obtener los grupos respecto a la variable de Gasto\n",
    "control = df[df['Campaña'] == 'Control']['Gasto'] \n",
    "experimental = df[df['Campaña'] == 'Test']['Gasto'] \n",
    "# Aplicar la prueba ANOVA\n",
    "statistic, p_value = f_oneway(control, experimental)\n",
    "\n",
    "# Imprimir los resultados\n",
    "print(\"Estadístico de prueba de ANOVA:\", statistic)\n",
    "print(\"Valor p:\", p_value)\n",
    "\n",
    "# Interpretar los resultados\n",
    "if p_value < alpha: print(\"Se rechaza la hipótesis nula: hay al menos una diferencia significativa entre los grupos.\")\n",
    "else: print(\"No se puede rechazar la hipótesis nula: no hay suficiente evidencia para afirmar que hay diferencias significativas entre los grupos.\")"
   ]
  },
  {
   "cell_type": "code",
   "execution_count": 202,
   "id": "81247d2a-6e43-422f-ad28-1f2eea078151",
   "metadata": {},
   "outputs": [
    {
     "name": "stdout",
     "output_type": "stream",
     "text": [
      "Estadístico de prueba de ANOVA: 24.695934571969705\n",
      "Valor p: 6.273684428098901e-06\n",
      "Se rechaza la hipótesis nula: hay al menos una diferencia significativa entre los grupos.\n"
     ]
    }
   ],
   "source": [
    "# Filtramos los datos para obtener los grupos respecto a la variable de Impresiones\n",
    "control = df[df['Campaña'] == 'Control']['Impresiones'] \n",
    "experimental = df[df['Campaña'] == 'Test']['Impresiones'] \n",
    "# Aplicar la prueba ANOVA\n",
    "statistic, p_value = f_oneway(control, experimental)\n",
    "\n",
    "# Imprimir los resultados\n",
    "print(\"Estadístico de prueba de ANOVA:\", statistic)\n",
    "print(\"Valor p:\", p_value)\n",
    "\n",
    "# Interpretar los resultados\n",
    "if p_value < alpha: print(\"Se rechaza la hipótesis nula: hay al menos una diferencia significativa entre los grupos.\")\n",
    "else: print(\"No se puede rechazar la hipótesis nula: no hay suficiente evidencia para afirmar que hay diferencias significativas entre los grupos.\")"
   ]
  },
  {
   "cell_type": "code",
   "execution_count": 204,
   "id": "2d8831e9-4050-42e5-8938-e52d7f1c2984",
   "metadata": {},
   "outputs": [
    {
     "name": "stdout",
     "output_type": "stream",
     "text": [
      "Estadístico de prueba de ANOVA: 29.07978056993706\n",
      "Valor p: 1.3332057238562592e-06\n",
      "Se rechaza la hipótesis nula: hay al menos una diferencia significativa entre los grupos.\n"
     ]
    }
   ],
   "source": [
    "# Filtramos los datos para obtener los grupos respecto a la variable de Alcance\n",
    "control = df[df['Campaña'] == 'Control']['Alcance'] \n",
    "experimental = df[df['Campaña'] == 'Test']['Alcance'] \n",
    "# Aplicar la prueba ANOVA\n",
    "statistic, p_value = f_oneway(control, experimental)\n",
    "\n",
    "# Imprimir los resultados\n",
    "print(\"Estadístico de prueba de ANOVA:\", statistic)\n",
    "print(\"Valor p:\", p_value)\n",
    "\n",
    "# Interpretar los resultados\n",
    "if p_value < alpha: print(\"Se rechaza la hipótesis nula: hay al menos una diferencia significativa entre los grupos.\")\n",
    "else: print(\"No se puede rechazar la hipótesis nula: no hay suficiente evidencia para afirmar que hay diferencias significativas entre los grupos.\")"
   ]
  },
  {
   "cell_type": "code",
   "execution_count": 206,
   "id": "12bd303e-1ffa-49c9-8954-b3050c0a8c90",
   "metadata": {},
   "outputs": [
    {
     "name": "stdout",
     "output_type": "stream",
     "text": [
      "Estadístico de prueba de ANOVA: 2.57384401722806\n",
      "Valor p: 0.11407550324170754\n",
      "No se puede rechazar la hipótesis nula: no hay suficiente evidencia para afirmar que hay diferencias significativas entre los grupos.\n"
     ]
    }
   ],
   "source": [
    "# Filtramos los datos para obtener los grupos respecto a la variable de Clicks\n",
    "control = df[df['Campaña'] == 'Control']['Clicks'] \n",
    "experimental = df[df['Campaña'] == 'Test']['Clicks'] \n",
    "# Aplicar la prueba ANOVA\n",
    "statistic, p_value = f_oneway(control, experimental)\n",
    "\n",
    "# Imprimir los resultados\n",
    "print(\"Estadístico de prueba de ANOVA:\", statistic)\n",
    "print(\"Valor p:\", p_value)\n",
    "\n",
    "# Interpretar los resultados\n",
    "if p_value < alpha: print(\"Se rechaza la hipótesis nula: hay al menos una diferencia significativa entre los grupos.\")\n",
    "else: print(\"No se puede rechazar la hipótesis nula: no hay suficiente evidencia para afirmar que hay diferencias significativas entre los grupos.\")"
   ]
  },
  {
   "cell_type": "code",
   "execution_count": 208,
   "id": "81181b79-d5b7-4e7b-b5ac-fd4120237723",
   "metadata": {},
   "outputs": [
    {
     "name": "stdout",
     "output_type": "stream",
     "text": [
      "Estadístico de prueba de ANOVA: 1.3390559076264108\n",
      "Valor p: 0.25194409832146714\n",
      "No se puede rechazar la hipótesis nula: no hay suficiente evidencia para afirmar que hay diferencias significativas entre los grupos.\n"
     ]
    }
   ],
   "source": [
    "# Filtramos los datos para obtener los grupos respecto a la variable de Busquedas\n",
    "control = df[df['Campaña'] == 'Control']['Busquedas'] \n",
    "experimental = df[df['Campaña'] == 'Test']['Busquedas'] \n",
    "# Aplicar la prueba ANOVA\n",
    "statistic, p_value = f_oneway(control, experimental)\n",
    "\n",
    "# Imprimir los resultados\n",
    "print(\"Estadístico de prueba de ANOVA:\", statistic)\n",
    "print(\"Valor p:\", p_value)\n",
    "\n",
    "# Interpretar los resultados\n",
    "if p_value < alpha: print(\"Se rechaza la hipótesis nula: hay al menos una diferencia significativa entre los grupos.\")\n",
    "else: print(\"No se puede rechazar la hipótesis nula: no hay suficiente evidencia para afirmar que hay diferencias significativas entre los grupos.\")"
   ]
  },
  {
   "cell_type": "code",
   "execution_count": 210,
   "id": "598fb84f-714d-4357-b733-588637bfc80a",
   "metadata": {},
   "outputs": [
    {
     "name": "stdout",
     "output_type": "stream",
     "text": [
      "Estadístico de prueba de ANOVA: 0.234716090662905\n",
      "Valor p: 0.6298733327245905\n",
      "No se puede rechazar la hipótesis nula: no hay suficiente evidencia para afirmar que hay diferencias significativas entre los grupos.\n"
     ]
    }
   ],
   "source": [
    "# Filtramos los datos para obtener los grupos respecto a la variable de Vistas\n",
    "control = df[df['Campaña'] == 'Control']['Vistas'] \n",
    "experimental = df[df['Campaña'] == 'Test']['Vistas'] \n",
    "# Aplicar la prueba ANOVA\n",
    "statistic, p_value = f_oneway(control, experimental)\n",
    "\n",
    "# Imprimir los resultados\n",
    "print(\"Estadístico de prueba de ANOVA:\", statistic)\n",
    "print(\"Valor p:\", p_value)\n",
    "\n",
    "# Interpretar los resultados\n",
    "if p_value < alpha: print(\"Se rechaza la hipótesis nula: hay al menos una diferencia significativa entre los grupos.\")\n",
    "else: print(\"No se puede rechazar la hipótesis nula: no hay suficiente evidencia para afirmar que hay diferencias significativas entre los grupos.\")"
   ]
  },
  {
   "cell_type": "code",
   "execution_count": 212,
   "id": "d01c7dbd-56a4-45f0-b416-76e1df1f0a9b",
   "metadata": {},
   "outputs": [
    {
     "name": "stdout",
     "output_type": "stream",
     "text": [
      "Estadístico de prueba de ANOVA: 18.688039521086715\n",
      "Valor p: 6.124488718225836e-05\n",
      "Se rechaza la hipótesis nula: hay al menos una diferencia significativa entre los grupos.\n"
     ]
    }
   ],
   "source": [
    "# Filtramos los datos para obtener los grupos respecto a la variable de NumCarritos\n",
    "control = df[df['Campaña'] == 'Control']['NumCarritos'] \n",
    "experimental = df[df['Campaña'] == 'Test']['NumCarritos'] \n",
    "# Aplicar la prueba ANOVA\n",
    "statistic, p_value = f_oneway(control, experimental)\n",
    "\n",
    "# Imprimir los resultados\n",
    "print(\"Estadístico de prueba de ANOVA:\", statistic)\n",
    "print(\"Valor p:\", p_value)\n",
    "\n",
    "# Interpretar los resultados\n",
    "if p_value < alpha: print(\"Se rechaza la hipótesis nula: hay al menos una diferencia significativa entre los grupos.\")\n",
    "else: print(\"No se puede rechazar la hipótesis nula: no hay suficiente evidencia para afirmar que hay diferencias significativas entre los grupos.\")"
   ]
  },
  {
   "cell_type": "code",
   "execution_count": 214,
   "id": "eb52972c-5de0-4c4c-ad79-7281104aa2ee",
   "metadata": {},
   "outputs": [
    {
     "name": "stdout",
     "output_type": "stream",
     "text": [
      "Estadístico de prueba de ANOVA: 0.0009489294750951005\n",
      "Valor p: 0.975531051981608\n",
      "No se puede rechazar la hipótesis nula: no hay suficiente evidencia para afirmar que hay diferencias significativas entre los grupos.\n"
     ]
    }
   ],
   "source": [
    "# Filtramos los datos para obtener los grupos respecto a la variable de Compras\n",
    "control = df[df['Campaña'] == 'Control']['Compras'] \n",
    "experimental = df[df['Campaña'] == 'Test']['Compras'] \n",
    "# Aplicar la prueba ANOVA\n",
    "statistic, p_value = f_oneway(control, experimental)\n",
    "\n",
    "# Imprimir los resultados\n",
    "print(\"Estadístico de prueba de ANOVA:\", statistic)\n",
    "print(\"Valor p:\", p_value)\n",
    "\n",
    "# Interpretar los resultados\n",
    "if p_value < alpha: print(\"Se rechaza la hipótesis nula: hay al menos una diferencia significativa entre los grupos.\")\n",
    "else: print(\"No se puede rechazar la hipótesis nula: no hay suficiente evidencia para afirmar que hay diferencias significativas entre los grupos.\")"
   ]
  },
  {
   "cell_type": "markdown",
   "id": "6459ad37-b824-4bda-a97a-52fed33f17b2",
   "metadata": {},
   "source": [
    "--------------------------------------------------"
   ]
  },
  {
   "cell_type": "markdown",
   "id": "d2750230-6871-443e-a6ce-3126a2aec5d9",
   "metadata": {},
   "source": [
    "**Prueba Mann-Whitney**\n",
    "\n",
    "Una alternativa no paramétrica a la prueba t es la prueba de Mann-Whitney. Esto es recomendable cuando no se cumple el supuesto de normalidad de los datos."
   ]
  },
  {
   "cell_type": "code",
   "execution_count": 228,
   "id": "1522f78f-789c-4c0c-8561-7d2728be1b82",
   "metadata": {},
   "outputs": [],
   "source": [
    "# Definición de una función de evaluación con interpretación de acuerdo a lo estudiado para Mann-Whitney.\n",
    "def eval_hipotesis_mann_whitney(statistic, p_value):\n",
    "    if p_value < alpha: print(\"Se rechaza la hipótesis nula: hay evidencia de diferencias significativas en la distribución.\")\n",
    "    else: print(\"No se puede rechazar la hipótesis nula: no hay suficiente evidencia para afirmar diferencias significativas en la distribución\")"
   ]
  },
  {
   "cell_type": "code",
   "execution_count": 232,
   "id": "d0dc13be-2a3e-478d-872d-134c2d65263f",
   "metadata": {},
   "outputs": [
    {
     "name": "stdout",
     "output_type": "stream",
     "text": [
      "Estadístico de prueba U: 264.0\n",
      "Valor p: 0.006097142345173946\n",
      "Se rechaza la hipótesis nula: hay evidencia de diferencias significativas en la distribución.\n"
     ]
    }
   ],
   "source": [
    "# Filtramos los datos para obtener los grupos respecto a la variable de Gasto\n",
    "control = df[df['Campaña'] == 'Control']['Gasto'] \n",
    "experimental = df[df['Campaña'] == 'Test']['Gasto'] \n",
    "\n",
    "# Realizar la prueba de Mann-Whitney U\n",
    "statistic, p_value = mannwhitneyu(control, experimental)\n",
    "\n",
    "# Imprimir los resultados\n",
    "print(\"Estadístico de prueba U:\", statistic)\n",
    "print(\"Valor p:\", p_value)\n",
    "\n",
    "# Interpretar los resultados\n",
    "eval_hipotesis_mann_whitney(statistic=statistic, p_value=p_value)"
   ]
  },
  {
   "cell_type": "code",
   "execution_count": 234,
   "id": "de17ebb2-702c-481b-9f64-5b717365fa27",
   "metadata": {},
   "outputs": [
    {
     "name": "stdout",
     "output_type": "stream",
     "text": [
      "Estadístico de prueba U: 721.0\n",
      "Valor p: 6.356042543170036e-05\n",
      "Se rechaza la hipótesis nula: hay evidencia de diferencias significativas en la distribución.\n"
     ]
    }
   ],
   "source": [
    "# Filtramos los datos para obtener los grupos respecto a la variable de Impresiones\n",
    "control = df[df['Campaña'] == 'Control']['Impresiones'] \n",
    "experimental = df[df['Campaña'] == 'Test']['Impresiones'] \n",
    "\n",
    "# Realizar la prueba de Mann-Whitney U\n",
    "statistic, p_value = mannwhitneyu(control, experimental)\n",
    "\n",
    "# Imprimir los resultados\n",
    "print(\"Estadístico de prueba U:\", statistic)\n",
    "print(\"Valor p:\", p_value)\n",
    "\n",
    "# Interpretar los resultados\n",
    "eval_hipotesis_mann_whitney(statistic=statistic, p_value=p_value)"
   ]
  },
  {
   "cell_type": "code",
   "execution_count": 236,
   "id": "cb8964f6-c4fb-4cf9-a063-a5396c4861e2",
   "metadata": {},
   "outputs": [
    {
     "name": "stdout",
     "output_type": "stream",
     "text": [
      "Estadístico de prueba U: 743.0\n",
      "Valor p: 1.5291673925716366e-05\n",
      "Se rechaza la hipótesis nula: hay evidencia de diferencias significativas en la distribución.\n"
     ]
    }
   ],
   "source": [
    "# Filtramos los datos para obtener los grupos respecto a la variable de Alcance\n",
    "control = df[df['Campaña'] == 'Control']['Alcance'] \n",
    "experimental = df[df['Campaña'] == 'Test']['Alcance'] \n",
    "\n",
    "# Realizar la prueba de Mann-Whitney U\n",
    "statistic, p_value = mannwhitneyu(control, experimental)\n",
    "\n",
    "# Imprimir los resultados\n",
    "print(\"Estadístico de prueba U:\", statistic)\n",
    "print(\"Valor p:\", p_value)\n",
    "\n",
    "# Interpretar los resultados\n",
    "eval_hipotesis_mann_whitney(statistic=statistic, p_value=p_value)"
   ]
  },
  {
   "cell_type": "code",
   "execution_count": 238,
   "id": "5ffa2c68-a5b2-4b05-96ca-b61aaca3c4ca",
   "metadata": {},
   "outputs": [
    {
     "name": "stdout",
     "output_type": "stream",
     "text": [
      "Estadístico de prueba U: 349.0\n",
      "Valor p: 0.13732283484699292\n",
      "No se puede rechazar la hipótesis nula: no hay suficiente evidencia para afirmar diferencias significativas en la distribución\n"
     ]
    }
   ],
   "source": [
    "# Filtramos los datos para obtener los grupos respecto a la variable de Clicks\n",
    "control = df[df['Campaña'] == 'Control']['Clicks'] \n",
    "experimental = df[df['Campaña'] == 'Test']['Clicks'] \n",
    "\n",
    "# Realizar la prueba de Mann-Whitney U\n",
    "statistic, p_value = mannwhitneyu(control, experimental)\n",
    "\n",
    "# Imprimir los resultados\n",
    "print(\"Estadístico de prueba U:\", statistic)\n",
    "print(\"Valor p:\", p_value)\n",
    "\n",
    "# Interpretar los resultados\n",
    "eval_hipotesis_mann_whitney(statistic=statistic, p_value=p_value)"
   ]
  },
  {
   "cell_type": "code",
   "execution_count": 240,
   "id": "8ce22ed1-b34b-49a4-830e-dbb7e32e5c70",
   "metadata": {},
   "outputs": [
    {
     "name": "stdout",
     "output_type": "stream",
     "text": [
      "Estadístico de prueba U: 359.0\n",
      "Valor p: 0.1808934738990854\n",
      "No se puede rechazar la hipótesis nula: no hay suficiente evidencia para afirmar diferencias significativas en la distribución\n"
     ]
    }
   ],
   "source": [
    "# Filtramos los datos para obtener los grupos respecto a la variable de Busquedas\n",
    "control = df[df['Campaña'] == 'Control']['Busquedas'] \n",
    "experimental = df[df['Campaña'] == 'Test']['Busquedas'] \n",
    "\n",
    "# Realizar la prueba de Mann-Whitney U\n",
    "statistic, p_value = mannwhitneyu(control, experimental)\n",
    "\n",
    "# Imprimir los resultados\n",
    "print(\"Estadístico de prueba U:\", statistic)\n",
    "print(\"Valor p:\", p_value)\n",
    "\n",
    "# Interpretar los resultados\n",
    "eval_hipotesis_mann_whitney(statistic=statistic, p_value=p_value)"
   ]
  },
  {
   "cell_type": "code",
   "execution_count": 242,
   "id": "8b3d3cf3-0056-4bac-b250-673d7629d151",
   "metadata": {},
   "outputs": [
    {
     "name": "stdout",
     "output_type": "stream",
     "text": [
      "Estadístico de prueba U: 458.0\n",
      "Valor p: 0.9117053103328743\n",
      "No se puede rechazar la hipótesis nula: no hay suficiente evidencia para afirmar diferencias significativas en la distribución\n"
     ]
    }
   ],
   "source": [
    "# Filtramos los datos para obtener los grupos respecto a la variable de Vistas\n",
    "control = df[df['Campaña'] == 'Control']['Vistas'] \n",
    "experimental = df[df['Campaña'] == 'Test']['Vistas'] \n",
    "\n",
    "# Realizar la prueba de Mann-Whitney U\n",
    "statistic, p_value = mannwhitneyu(control, experimental)\n",
    "\n",
    "# Imprimir los resultados\n",
    "print(\"Estadístico de prueba U:\", statistic)\n",
    "print(\"Valor p:\", p_value)\n",
    "\n",
    "# Interpretar los resultados\n",
    "eval_hipotesis_mann_whitney(statistic=statistic, p_value=p_value)"
   ]
  },
  {
   "cell_type": "code",
   "execution_count": 244,
   "id": "1d90427e-fd51-46ac-8d90-877f3202eccb",
   "metadata": {},
   "outputs": [
    {
     "name": "stdout",
     "output_type": "stream",
     "text": [
      "Estadístico de prueba U: 691.0\n",
      "Valor p: 0.0003770395640831686\n",
      "Se rechaza la hipótesis nula: hay evidencia de diferencias significativas en la distribución.\n"
     ]
    }
   ],
   "source": [
    "# Filtramos los datos para obtener los grupos respecto a la variable de NumCarritos\n",
    "control = df[df['Campaña'] == 'Control']['NumCarritos'] \n",
    "experimental = df[df['Campaña'] == 'Test']['NumCarritos'] \n",
    "\n",
    "# Realizar la prueba de Mann-Whitney U\n",
    "statistic, p_value = mannwhitneyu(control, experimental)\n",
    "\n",
    "# Imprimir los resultados\n",
    "print(\"Estadístico de prueba U:\", statistic)\n",
    "print(\"Valor p:\", p_value)\n",
    "\n",
    "# Interpretar los resultados\n",
    "eval_hipotesis_mann_whitney(statistic=statistic, p_value=p_value)"
   ]
  },
  {
   "cell_type": "code",
   "execution_count": 246,
   "id": "a06cb1bb-b662-4b5b-ab60-a03014c6fa7a",
   "metadata": {},
   "outputs": [
    {
     "name": "stdout",
     "output_type": "stream",
     "text": [
      "Estadístico de prueba U: 455.0\n",
      "Valor p: 0.9469515266277105\n",
      "No se puede rechazar la hipótesis nula: no hay suficiente evidencia para afirmar diferencias significativas en la distribución\n"
     ]
    }
   ],
   "source": [
    "# Filtramos los datos para obtener los grupos respecto a la variable de Compras\n",
    "control = df[df['Campaña'] == 'Control']['Compras'] \n",
    "experimental = df[df['Campaña'] == 'Test']['Compras'] \n",
    "\n",
    "# Realizar la prueba de Mann-Whitney U\n",
    "statistic, p_value = mannwhitneyu(control, experimental)\n",
    "\n",
    "# Imprimir los resultados\n",
    "print(\"Estadístico de prueba U:\", statistic)\n",
    "print(\"Valor p:\", p_value)\n",
    "\n",
    "# Interpretar los resultados\n",
    "eval_hipotesis_mann_whitney(statistic=statistic, p_value=p_value)"
   ]
  },
  {
   "cell_type": "markdown",
   "id": "53fff3ff-e4ee-4ca4-b9a6-1841ef09a838",
   "metadata": {},
   "source": [
    "--------------------------------------------------"
   ]
  },
  {
   "cell_type": "markdown",
   "id": "d6c8ab4c-05a4-4105-aa88-e3adecf56a57",
   "metadata": {},
   "source": [
    "**Prueba Kruskal-Wallis**\n",
    "\n",
    "Una alternativa más sería utilizar la prueba de Kruskal-Wallis, considerada cuando los datos son desbalanceados o sesgados."
   ]
  },
  {
   "cell_type": "code",
   "execution_count": 258,
   "id": "50e20620-5db1-4460-9140-55bc6d4764e8",
   "metadata": {},
   "outputs": [],
   "source": [
    "# Definición de una función de evaluación con interpretación de acuerdo a lo estudiado para Kruskal-Wallis.\n",
    "def eval_hipotesis_kruskal_allis(statistic, p_value):\n",
    "    if p_value < alpha: print(\"Se rechaza la hipótesis nula: hay evidencia de diferencias significativas entre los grupos.\")\n",
    "    else: print(\"No se puede rechazar la hipótesis nula: no hay suficiente evidencia para afirmar diferencias significativas entre los grupos.\")"
   ]
  },
  {
   "cell_type": "code",
   "execution_count": 262,
   "id": "4dd3e9cc-cd31-43df-8444-71ff675a781d",
   "metadata": {},
   "outputs": [
    {
     "name": "stdout",
     "output_type": "stream",
     "text": [
      "Estadístico de prueba de Kruskal-Wallis: 7.561967213114741\n",
      "Valor p: 0.005961288528864843\n",
      "Se rechaza la hipótesis nula: hay evidencia de diferencias significativas entre los grupos.\n"
     ]
    }
   ],
   "source": [
    "# Filtramos los datos para obtener los grupos respecto a la variable Gasto\n",
    "control = df[df['Campaña'] == 'Control']['Gasto'] \n",
    "experimental = df[df['Campaña'] == 'Test']['Gasto'] \n",
    "\n",
    "# Aplicar la prueba Kruskal-Wallis\n",
    "statistic, p_value = kruskal(control, experimental)\n",
    "\n",
    "# Imprimir los resultados\n",
    "print(\"Estadístico de prueba de Kruskal-Wallis:\", statistic)\n",
    "print(\"Valor p:\", p_value)\n",
    "\n",
    "# Interpretar los resultados\n",
    "eval_hipotesis_kruskal_allis(statistic=statistic, p_value=p_value)"
   ]
  },
  {
   "cell_type": "code",
   "execution_count": 264,
   "id": "1a060fd6-34b3-4645-b6e8-cf103851515f",
   "metadata": {},
   "outputs": [
    {
     "name": "stdout",
     "output_type": "stream",
     "text": [
      "Estadístico de prueba de Kruskal-Wallis: 16.05267759562841\n",
      "Valor p: 6.160445128152299e-05\n",
      "Se rechaza la hipótesis nula: hay evidencia de diferencias significativas entre los grupos.\n"
     ]
    }
   ],
   "source": [
    "# Filtramos los datos para obtener los grupos respecto a la variable Impresiones\n",
    "control = df[df['Campaña'] == 'Control']['Impresiones'] \n",
    "experimental = df[df['Campaña'] == 'Test']['Impresiones'] \n",
    "\n",
    "# Aplicar la prueba Kruskal-Wallis\n",
    "statistic, p_value = kruskal(control, experimental)\n",
    "\n",
    "# Imprimir los resultados\n",
    "print(\"Estadístico de prueba de Kruskal-Wallis:\", statistic)\n",
    "print(\"Valor p:\", p_value)\n",
    "\n",
    "# Interpretar los resultados\n",
    "eval_hipotesis_kruskal_allis(statistic=statistic, p_value=p_value)"
   ]
  },
  {
   "cell_type": "code",
   "execution_count": 266,
   "id": "5157d07a-f927-4083-be91-10e01c4698df",
   "metadata": {},
   "outputs": [
    {
     "name": "stdout",
     "output_type": "stream",
     "text": [
      "Estadístico de prueba de Kruskal-Wallis: 18.764808743169397\n",
      "Valor p: 1.478706364173976e-05\n",
      "Se rechaza la hipótesis nula: hay evidencia de diferencias significativas entre los grupos.\n"
     ]
    }
   ],
   "source": [
    "# Filtramos los datos para obtener los grupos respecto a la variable Alcance\n",
    "control = df[df['Campaña'] == 'Control']['Alcance'] \n",
    "experimental = df[df['Campaña'] == 'Test']['Alcance'] \n",
    "\n",
    "# Aplicar la prueba Kruskal-Wallis\n",
    "statistic, p_value = kruskal(control, experimental)\n",
    "\n",
    "# Imprimir los resultados\n",
    "print(\"Estadístico de prueba de Kruskal-Wallis:\", statistic)\n",
    "print(\"Valor p:\", p_value)\n",
    "\n",
    "# Interpretar los resultados\n",
    "eval_hipotesis_kruskal_allis(statistic=statistic, p_value=p_value)"
   ]
  },
  {
   "cell_type": "code",
   "execution_count": 268,
   "id": "a03b376b-9276-4e42-9452-3f59c93c3b10",
   "metadata": {},
   "outputs": [
    {
     "name": "stdout",
     "output_type": "stream",
     "text": [
      "Estadístico de prueba de Kruskal-Wallis: 2.229726775956294\n",
      "Valor p: 0.13537778532322509\n",
      "No se puede rechazar la hipótesis nula: no hay suficiente evidencia para afirmar diferencias significativas entre los grupos.\n"
     ]
    }
   ],
   "source": [
    "# Filtramos los datos para obtener los grupos respecto a la variable Clicks\n",
    "control = df[df['Campaña'] == 'Control']['Clicks'] \n",
    "experimental = df[df['Campaña'] == 'Test']['Clicks'] \n",
    "\n",
    "# Aplicar la prueba Kruskal-Wallis\n",
    "statistic, p_value = kruskal(control, experimental)\n",
    "\n",
    "# Imprimir los resultados\n",
    "print(\"Estadístico de prueba de Kruskal-Wallis:\", statistic)\n",
    "print(\"Valor p:\", p_value)\n",
    "\n",
    "# Interpretar los resultados\n",
    "eval_hipotesis_kruskal_allis(statistic=statistic, p_value=p_value)"
   ]
  },
  {
   "cell_type": "code",
   "execution_count": 270,
   "id": "85a24557-66f7-4a1a-91f7-4f64748c00c1",
   "metadata": {},
   "outputs": [
    {
     "name": "stdout",
     "output_type": "stream",
     "text": [
      "Estadístico de prueba de Kruskal-Wallis: 1.810104939472233\n",
      "Valor p: 0.17849564192002884\n",
      "No se puede rechazar la hipótesis nula: no hay suficiente evidencia para afirmar diferencias significativas entre los grupos.\n"
     ]
    }
   ],
   "source": [
    "# Filtramos los datos para obtener los grupos respecto a la variable Busquedas\n",
    "control = df[df['Campaña'] == 'Control']['Busquedas'] \n",
    "experimental = df[df['Campaña'] == 'Test']['Busquedas'] \n",
    "\n",
    "# Aplicar la prueba Kruskal-Wallis\n",
    "statistic, p_value = kruskal(control, experimental)\n",
    "\n",
    "# Imprimir los resultados\n",
    "print(\"Estadístico de prueba de Kruskal-Wallis:\", statistic)\n",
    "print(\"Valor p:\", p_value)\n",
    "\n",
    "# Interpretar los resultados\n",
    "eval_hipotesis_kruskal_allis(statistic=statistic, p_value=p_value)"
   ]
  },
  {
   "cell_type": "code",
   "execution_count": 272,
   "id": "31b12e71-d394-4a50-932f-8d74fb44400f",
   "metadata": {},
   "outputs": [
    {
     "name": "stdout",
     "output_type": "stream",
     "text": [
      "Estadístico de prueba de Kruskal-Wallis: 0.013990237215292429\n",
      "Valor p: 0.9058455398570052\n",
      "No se puede rechazar la hipótesis nula: no hay suficiente evidencia para afirmar diferencias significativas entre los grupos.\n"
     ]
    }
   ],
   "source": [
    "# Filtramos los datos para obtener los grupos respecto a la variable Vistas\n",
    "control = df[df['Campaña'] == 'Control']['Vistas'] \n",
    "experimental = df[df['Campaña'] == 'Test']['Vistas'] \n",
    "\n",
    "# Aplicar la prueba Kruskal-Wallis\n",
    "statistic, p_value = kruskal(control, experimental)\n",
    "\n",
    "# Imprimir los resultados\n",
    "print(\"Estadístico de prueba de Kruskal-Wallis:\", statistic)\n",
    "print(\"Valor p:\", p_value)\n",
    "\n",
    "# Interpretar los resultados\n",
    "eval_hipotesis_kruskal_allis(statistic=statistic, p_value=p_value)"
   ]
  },
  {
   "cell_type": "code",
   "execution_count": 274,
   "id": "486f8afd-1284-4c12-8180-5ce1f8b5a03b",
   "metadata": {},
   "outputs": [
    {
     "name": "stdout",
     "output_type": "stream",
     "text": [
      "Estadístico de prueba de Kruskal-Wallis: 12.695300546448095\n",
      "Valor p: 0.000366575678090334\n",
      "Se rechaza la hipótesis nula: hay evidencia de diferencias significativas entre los grupos.\n"
     ]
    }
   ],
   "source": [
    "# Filtramos los datos para obtener los grupos respecto a la variable NumCarritos\n",
    "control = df[df['Campaña'] == 'Control']['NumCarritos'] \n",
    "experimental = df[df['Campaña'] == 'Test']['NumCarritos'] \n",
    "\n",
    "# Aplicar la prueba Kruskal-Wallis\n",
    "statistic, p_value = kruskal(control, experimental)\n",
    "\n",
    "# Imprimir los resultados\n",
    "print(\"Estadístico de prueba de Kruskal-Wallis:\", statistic)\n",
    "print(\"Valor p:\", p_value)\n",
    "\n",
    "# Interpretar los resultados\n",
    "eval_hipotesis_kruskal_allis(statistic=statistic, p_value=p_value)"
   ]
  },
  {
   "cell_type": "code",
   "execution_count": 276,
   "id": "6ccc8e4b-2e4d-4671-96b4-dd411a61c7a6",
   "metadata": {},
   "outputs": [
    {
     "name": "stdout",
     "output_type": "stream",
     "text": [
      "Estadístico de prueba de Kruskal-Wallis: 0.005465392026077901\n",
      "Valor p: 0.9410674454664939\n",
      "No se puede rechazar la hipótesis nula: no hay suficiente evidencia para afirmar diferencias significativas entre los grupos.\n"
     ]
    }
   ],
   "source": [
    "# Filtramos los datos para obtener los grupos respecto a la variable Compras\n",
    "control = df[df['Campaña'] == 'Control']['Compras'] \n",
    "experimental = df[df['Campaña'] == 'Test']['Compras'] \n",
    "\n",
    "# Aplicar la prueba Kruskal-Wallis\n",
    "statistic, p_value = kruskal(control, experimental)\n",
    "\n",
    "# Imprimir los resultados\n",
    "print(\"Estadístico de prueba de Kruskal-Wallis:\", statistic)\n",
    "print(\"Valor p:\", p_value)\n",
    "\n",
    "# Interpretar los resultados\n",
    "eval_hipotesis_kruskal_allis(statistic=statistic, p_value=p_value)"
   ]
  },
  {
   "cell_type": "markdown",
   "id": "42398d3d-5fbb-496f-9279-3f12cb3273b0",
   "metadata": {},
   "source": [
    "------------------------------------"
   ]
  }
 ],
 "metadata": {
  "kernelspec": {
   "display_name": "Python 3 (ipykernel)",
   "language": "python",
   "name": "python3"
  },
  "language_info": {
   "codemirror_mode": {
    "name": "ipython",
    "version": 3
   },
   "file_extension": ".py",
   "mimetype": "text/x-python",
   "name": "python",
   "nbconvert_exporter": "python",
   "pygments_lexer": "ipython3",
   "version": "3.12.4"
  }
 },
 "nbformat": 4,
 "nbformat_minor": 5
}
