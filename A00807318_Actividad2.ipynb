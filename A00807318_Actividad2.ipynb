{
 "cells": [
  {
   "cell_type": "markdown",
   "id": "45b5b6fa-3037-418b-a5c7-069e16f47242",
   "metadata": {},
   "source": [
    "# Actividad 2 Comparación de grupos: Campañas de Ventas"
   ]
  },
  {
   "cell_type": "markdown",
   "id": "3831b658-cee7-4548-bbd6-f44540270f85",
   "metadata": {},
   "source": [
    "#### Carlos Alberto Quintana Saucedo - A00807318"
   ]
  },
  {
   "cell_type": "markdown",
   "id": "bb216ad6-94d7-4e1c-b4bc-d8f5c6bfbd88",
   "metadata": {},
   "source": [
    "## Importación y procesamiento de datos."
   ]
  },
  {
   "cell_type": "code",
   "execution_count": 12,
   "id": "6e6eb970-9d9c-4557-9a09-2856e6336c55",
   "metadata": {},
   "outputs": [],
   "source": [
    "# Importar librerías necesarias.\n",
    "import pandas as pd"
   ]
  },
  {
   "cell_type": "code",
   "execution_count": null,
   "id": "1c8814e3-bbc5-4fef-a622-462e06cb87bd",
   "metadata": {},
   "outputs": [],
   "source": [
    "# Importación y Preprocesamiento de Datos.\n",
    "df = pd.read_csv('https://github.com/EGADE00807318/IN4036.50_EDA_Cervezas/raw/main/raw/b03_cerveza%20-%20Base%2011%20Cerveza.csv')"
   ]
  },
  {
   "cell_type": "code",
   "execution_count": null,
   "id": "f7c3a5db-e239-42ec-b01a-aa3a40973dca",
   "metadata": {},
   "outputs": [],
   "source": []
  },
  {
   "cell_type": "code",
   "execution_count": null,
   "id": "a237c9a5-869d-417a-a32b-3d14e2bf169c",
   "metadata": {},
   "outputs": [],
   "source": []
  },
  {
   "cell_type": "code",
   "execution_count": null,
   "id": "5c8481e5-4874-49d0-8f21-d33902da1ffc",
   "metadata": {},
   "outputs": [],
   "source": []
  },
  {
   "cell_type": "code",
   "execution_count": null,
   "id": "dbca4b6c-8185-4a9c-bdb7-d0c0255bfe40",
   "metadata": {},
   "outputs": [],
   "source": []
  },
  {
   "cell_type": "code",
   "execution_count": null,
   "id": "ab4effe5-9fab-4626-b938-ddd44fb91ee7",
   "metadata": {},
   "outputs": [],
   "source": []
  },
  {
   "cell_type": "code",
   "execution_count": null,
   "id": "9603f5be-494b-466d-aceb-f6c3d243cd50",
   "metadata": {},
   "outputs": [],
   "source": []
  },
  {
   "cell_type": "code",
   "execution_count": null,
   "id": "efa22c2d-ee0d-4d20-b46f-8893ebe6176d",
   "metadata": {},
   "outputs": [],
   "source": []
  },
  {
   "cell_type": "code",
   "execution_count": null,
   "id": "59c00a33-a1c1-421a-9a26-1f8f581a233d",
   "metadata": {},
   "outputs": [],
   "source": []
  },
  {
   "cell_type": "code",
   "execution_count": null,
   "id": "6230f50f-3c6c-4c92-a4a8-07e978a61e02",
   "metadata": {},
   "outputs": [],
   "source": []
  },
  {
   "cell_type": "code",
   "execution_count": null,
   "id": "3615ff51-9564-4628-86c6-35e3d9b48f6d",
   "metadata": {},
   "outputs": [],
   "source": []
  }
 ],
 "metadata": {
  "kernelspec": {
   "display_name": "Python 3 (ipykernel)",
   "language": "python",
   "name": "python3"
  },
  "language_info": {
   "codemirror_mode": {
    "name": "ipython",
    "version": 3
   },
   "file_extension": ".py",
   "mimetype": "text/x-python",
   "name": "python",
   "nbconvert_exporter": "python",
   "pygments_lexer": "ipython3",
   "version": "3.12.4"
  }
 },
 "nbformat": 4,
 "nbformat_minor": 5
}
